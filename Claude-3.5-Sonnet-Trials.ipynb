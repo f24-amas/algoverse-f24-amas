{
 "cells": [
  {
   "cell_type": "code",
   "execution_count": null,
   "metadata": {},
   "outputs": [],
   "source": [
    "#Install and freeze required dependencies for ease of access\n",
    "%pip install pandas\n",
    "%pip install torch\n",
    "%pip install datasets\n",
    "%pip install transformers\n",
    "%pip install --upgrade transformers\n",
    "%pip install einops\n",
    "%pip freeze > requirements.txt"
   ]
  },
  {
   "cell_type": "code",
   "execution_count": null,
   "metadata": {},
   "outputs": [],
   "source": [
    "#Install required dependencies\n",
    "%pip install -r requirements.txt"
   ]
  },
  {
   "cell_type": "code",
   "execution_count": null,
   "metadata": {},
   "outputs": [],
   "source": [
    "#Import\n",
    "from datasets import load_dataset\n",
    "\n",
    "#Load datasets\n",
    "test_storydata_dataset = load_dataset(\"allenai/SimpleTom\",\"story-data\",split = \"test\")\n",
    "test_behaviorqa_dataset = load_dataset(\"allenai/SimpleTom\",\"behavior-qa\",split = \"test\")\n",
    "test_judgmentqa_dataset = load_dataset(\"allenai/SimpleTom\",\"judgment-qa\",split = \"test\")\n",
    "test_mentalstateqa_dataset = load_dataset(\"allenai/SimpleTom\",\"mental-state-qa\",split = \"test\")"
   ]
  },
  {
   "cell_type": "code",
   "execution_count": null,
   "metadata": {},
   "outputs": [],
   "source": [
    "import torch\n",
    "from torch.utils.data import Dataset, DataLoader\n",
    "#Create dataloaders\n",
    "test_storydata_dataloader = DataLoader(test_storydata_dataset, batch_size=1, shuffle=False)\n",
    "test_behaviorqa_dataloader = DataLoader(test_behaviorqa_dataset, batch_size=1, shuffle=False)\n",
    "test_judgmentqa_dataloader = DataLoader(test_judgmentqa_dataset, batch_size=1, shuffle=False)\n",
    "test_mentalstateqa_dataloader = DataLoader(test_mentalstateqa_dataset, batch_size=1, shuffle=False)\n",
    "\n"
   ]
  },
  {
   "cell_type": "code",
   "execution_count": null,
   "metadata": {},
   "outputs": [],
   "source": []
  }
 ],
 "metadata": {
  "kernelspec": {
   "display_name": "Python 3",
   "language": "python",
   "name": "python3"
  },
  "language_info": {
   "codemirror_mode": {
    "name": "ipython",
    "version": 3
   },
   "file_extension": ".py",
   "mimetype": "text/x-python",
   "name": "python",
   "nbconvert_exporter": "python",
   "pygments_lexer": "ipython3",
   "version": "3.11.9"
  }
 },
 "nbformat": 4,
 "nbformat_minor": 2
}
